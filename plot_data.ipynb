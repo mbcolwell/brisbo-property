{
 "cells": [
  {
   "cell_type": "code",
   "execution_count": 1,
   "metadata": {},
   "outputs": [],
   "source": [
    "import json\n",
    "\n",
    "import pandas as pd\n",
    "import plotly.express as px"
   ]
  },
  {
   "cell_type": "code",
   "execution_count": 2,
   "metadata": {},
   "outputs": [],
   "source": [
    "data = pd.read_csv(\"data.csv\")\n",
    "data = data[~data[\"address\"].isna()]\n",
    "\n",
    "def data_query(*, min_beds, min_baths, min_cars):\n",
    "\n",
    "    transformed_data = data.query(f\"beds >= {min_beds} & baths >= {min_baths} & cars >= {min_cars}\")\n",
    "    transformed_data = transformed_data.groupby(by=\"suburb\")[\"price\"].agg([\"median\", \"mean\", \"std\", \"count\"])\n",
    "\n",
    "    transformed_data.index = transformed_data.index.str.upper()\n",
    "    transformed_data = transformed_data.reset_index()\n",
    "\n",
    "    return transformed_data"
   ]
  },
  {
   "cell_type": "code",
   "execution_count": 3,
   "metadata": {},
   "outputs": [],
   "source": [
    "with open(\"qld_suburb_geo.json\") as j:\n",
    "    geojson = json.load(j)"
   ]
  },
  {
   "cell_type": "code",
   "execution_count": 4,
   "metadata": {},
   "outputs": [],
   "source": [
    "LONGITUDE_MAX = -27.15\n",
    "LONGITUDE_MIN = -27.8\n",
    "LATITUDE_MAX = 153.6\n",
    "LATITUDE_MIN = 152.8\n",
    "\n",
    "brisbane_idxs = []\n",
    "for n, feature in enumerate(geojson[\"features\"]):\n",
    "    for lat, long in feature[\"geometry\"][\"coordinates\"][0][0]:\n",
    "        if long > LONGITUDE_MAX or long < LONGITUDE_MIN or lat > LATITUDE_MAX or lat < LATITUDE_MIN:\n",
    "            break\n",
    "    else:\n",
    "        brisbane_idxs.append(n)\n",
    "\n",
    "geojson[\"features\"] = [f for n, f in enumerate(geojson[\"features\"]) if n in brisbane_idxs]"
   ]
  },
  {
   "cell_type": "code",
   "execution_count": 5,
   "metadata": {},
   "outputs": [],
   "source": [
    "for feature in geojson[\"features\"]:\n",
    "    feature[\"id\"] = feature[\"properties\"][\"qld_loca_2\"]"
   ]
  },
  {
   "cell_type": "code",
   "execution_count": 16,
   "metadata": {},
   "outputs": [],
   "source": [
    "def plot_brisbane_house_prices(*, min_beds, min_baths, min_cars):\n",
    "    data = data_query(min_beds=min_beds, min_baths=min_baths, min_cars=min_cars)\n",
    "\n",
    "    # Slim geojson to just suburbs in plot to minimise file size\n",
    "    suburbs_list = data[\"suburb\"].unique().tolist()\n",
    "    geojson[\"features\"] = [\n",
    "        f \n",
    "        for f in geojson[\"features\"]\n",
    "        if f[\"properties\"][\"qld_loca_2\"] in suburbs_list\n",
    "    ]\n",
    "\n",
    "\n",
    "    fig = px.choropleth_mapbox(\n",
    "        data, \n",
    "        geojson=geojson,\n",
    "        locations=\"suburb\", \n",
    "        color=\"median\",\n",
    "        color_continuous_scale=\"Viridis\",\n",
    "        range_color=(0, 3000000),\n",
    "        mapbox_style=\"carto-positron\",\n",
    "        zoom=11, center = {\"lat\": -27.45, \"lon\": 153},\n",
    "        opacity=0.5,\n",
    "        custom_data=[\"count\", \"mean\"]\n",
    "    )\n",
    "    fig.update_layout(margin={\"r\":0,\"t\":0,\"l\":0,\"b\":0}, height=1300, width=1600)\n",
    "    fig.update_traces(\n",
    "        hovertemplate=\"<br>\".join(\n",
    "            [\n",
    "                \"suburb: %{location}\",\n",
    "                \"median=%{z}\",\n",
    "                \"houses sold=%{customdata[0]}\",\n",
    "                \"mean=%{customdata[1]}\",\n",
    "            ]\n",
    "        ) + \"<extra></extra>\"\n",
    "    )\n",
    "    fig.write_html(\"plot.html\")\n",
    "    return fig\n"
   ]
  },
  {
   "cell_type": "code",
   "execution_count": 17,
   "metadata": {},
   "outputs": [],
   "source": [
    "plot_brisbane_house_prices(\n",
    "    min_beds=3,\n",
    "    min_baths=1,\n",
    "    min_cars=0,\n",
    ")\n",
    "pass  # To prevent plot showing here and making ipynb file huge"
   ]
  }
 ],
 "metadata": {
  "kernelspec": {
   "display_name": ".venv",
   "language": "python",
   "name": "python3"
  },
  "language_info": {
   "codemirror_mode": {
    "name": "ipython",
    "version": 3
   },
   "file_extension": ".py",
   "mimetype": "text/x-python",
   "name": "python",
   "nbconvert_exporter": "python",
   "pygments_lexer": "ipython3",
   "version": "3.10.12"
  }
 },
 "nbformat": 4,
 "nbformat_minor": 2
}
